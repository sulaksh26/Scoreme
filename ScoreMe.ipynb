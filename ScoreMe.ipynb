{
  "nbformat": 4,
  "nbformat_minor": 0,
  "metadata": {
    "colab": {
      "provenance": [],
      "mount_file_id": "1EDFONfTBSgtX-EKg6tWp3ygvuUQw72iJ",
      "authorship_tag": "ABX9TyN7Dbl1x0covs7HaT0+y6ky",
      "include_colab_link": true
    },
    "kernelspec": {
      "name": "python3",
      "display_name": "Python 3"
    },
    "language_info": {
      "name": "python"
    }
  },
  "cells": [
    {
      "cell_type": "markdown",
      "metadata": {
        "id": "view-in-github",
        "colab_type": "text"
      },
      "source": [
        "<a href=\"https://colab.research.google.com/github/sulaksh26/Scoreme/blob/main/ScoreMe.ipynb\" target=\"_parent\"><img src=\"https://colab.research.google.com/assets/colab-badge.svg\" alt=\"Open In Colab\"/></a>"
      ]
    },
    {
      "cell_type": "code",
      "source": [
        "!pip install pdfplumber"
      ],
      "metadata": {
        "colab": {
          "base_uri": "https://localhost:8080/"
        },
        "id": "J4Kkq8DfNqZH",
        "outputId": "11d6ed93-3410-4727-aa4a-9f544a8b14d4"
      },
      "execution_count": 2,
      "outputs": [
        {
          "output_type": "stream",
          "name": "stdout",
          "text": [
            "Collecting pdfplumber\n",
            "  Downloading pdfplumber-0.11.5-py3-none-any.whl.metadata (42 kB)\n",
            "\u001b[?25l     \u001b[90m━━━━━━━━━━━━━━━━━━━━━━━━━━━━━━━━━━━━━━━━\u001b[0m \u001b[32m0.0/42.5 kB\u001b[0m \u001b[31m?\u001b[0m eta \u001b[36m-:--:--\u001b[0m\r\u001b[2K     \u001b[90m━━━━━━━━━━━━━━━━━━━━━━━━━━━━━━━━━━━━━━━━\u001b[0m \u001b[32m42.5/42.5 kB\u001b[0m \u001b[31m1.6 MB/s\u001b[0m eta \u001b[36m0:00:00\u001b[0m\n",
            "\u001b[?25hCollecting pdfminer.six==20231228 (from pdfplumber)\n",
            "  Downloading pdfminer.six-20231228-py3-none-any.whl.metadata (4.2 kB)\n",
            "Requirement already satisfied: Pillow>=9.1 in /usr/local/lib/python3.11/dist-packages (from pdfplumber) (11.1.0)\n",
            "Collecting pypdfium2>=4.18.0 (from pdfplumber)\n",
            "  Downloading pypdfium2-4.30.1-py3-none-manylinux_2_17_x86_64.manylinux2014_x86_64.whl.metadata (48 kB)\n",
            "\u001b[2K     \u001b[90m━━━━━━━━━━━━━━━━━━━━━━━━━━━━━━━━━━━━━━━━\u001b[0m \u001b[32m48.2/48.2 kB\u001b[0m \u001b[31m2.9 MB/s\u001b[0m eta \u001b[36m0:00:00\u001b[0m\n",
            "\u001b[?25hRequirement already satisfied: charset-normalizer>=2.0.0 in /usr/local/lib/python3.11/dist-packages (from pdfminer.six==20231228->pdfplumber) (3.4.1)\n",
            "Requirement already satisfied: cryptography>=36.0.0 in /usr/local/lib/python3.11/dist-packages (from pdfminer.six==20231228->pdfplumber) (43.0.3)\n",
            "Requirement already satisfied: cffi>=1.12 in /usr/local/lib/python3.11/dist-packages (from cryptography>=36.0.0->pdfminer.six==20231228->pdfplumber) (1.17.1)\n",
            "Requirement already satisfied: pycparser in /usr/local/lib/python3.11/dist-packages (from cffi>=1.12->cryptography>=36.0.0->pdfminer.six==20231228->pdfplumber) (2.22)\n",
            "Downloading pdfplumber-0.11.5-py3-none-any.whl (59 kB)\n",
            "\u001b[2K   \u001b[90m━━━━━━━━━━━━━━━━━━━━━━━━━━━━━━━━━━━━━━━━\u001b[0m \u001b[32m59.5/59.5 kB\u001b[0m \u001b[31m4.0 MB/s\u001b[0m eta \u001b[36m0:00:00\u001b[0m\n",
            "\u001b[?25hDownloading pdfminer.six-20231228-py3-none-any.whl (5.6 MB)\n",
            "\u001b[2K   \u001b[90m━━━━━━━━━━━━━━━━━━━━━━━━━━━━━━━━━━━━━━━━\u001b[0m \u001b[32m5.6/5.6 MB\u001b[0m \u001b[31m40.9 MB/s\u001b[0m eta \u001b[36m0:00:00\u001b[0m\n",
            "\u001b[?25hDownloading pypdfium2-4.30.1-py3-none-manylinux_2_17_x86_64.manylinux2014_x86_64.whl (2.9 MB)\n",
            "\u001b[2K   \u001b[90m━━━━━━━━━━━━━━━━━━━━━━━━━━━━━━━━━━━━━━━━\u001b[0m \u001b[32m2.9/2.9 MB\u001b[0m \u001b[31m51.2 MB/s\u001b[0m eta \u001b[36m0:00:00\u001b[0m\n",
            "\u001b[?25hInstalling collected packages: pypdfium2, pdfminer.six, pdfplumber\n",
            "Successfully installed pdfminer.six-20231228 pdfplumber-0.11.5 pypdfium2-4.30.1\n"
          ]
        }
      ]
    },
    {
      "cell_type": "code",
      "execution_count": 17,
      "metadata": {
        "colab": {
          "base_uri": "https://localhost:8080/"
        },
        "id": "5_5AouCoMakI",
        "outputId": "0fb7a3dc-95e9-4640-c9ca-07687f376160"
      },
      "outputs": [
        {
          "output_type": "stream",
          "name": "stdout",
          "text": [
            "No tables found in the PDF.\n"
          ]
        }
      ],
      "source": [
        "import pdfplumber\n",
        "import pandas as pd\n",
        "import re\n",
        "\n",
        "def extract_transactions_from_pdf(pdf_path, output_excel):\n",
        "    transactions = []\n",
        "\n",
        "    with pdfplumber.open(pdf_path) as pdf:\n",
        "        for page in pdf.pages:\n",
        "            text = page.extract_text()\n",
        "            if text:\n",
        "                lines = text.split(\"\\n\")\n",
        "\n",
        "                for line in lines:\n",
        "                    # Regex pattern for transaction lines (e.g., 01-APR-2022)\n",
        "                    match = re.match(r\"(\\d{2}-[A-Z]{3}-\\d{4})\\s+([TC])\\s+(.+?)\\s+([\\d,]+\\.\\d{2})(Dr|Cr)?\", line)\n",
        "\n",
        "                    if match:\n",
        "                        date = match.group(1)\n",
        "                        txn_type = match.group(2)\n",
        "                        details = match.group(3).strip()\n",
        "                        amount = match.group(4).replace(\",\", \"\")\n",
        "                        balance = match.group(5) if match.group(5) else \"\"\n",
        "\n",
        "                        transactions.append([date, txn_type, details, amount, balance])\n",
        "\n",
        "    # Convert extracted data to DataFrame\n",
        "    df = pd.DataFrame(transactions, columns=[\"Date\", \"Type\", \"Details\", \"Amount\", \"Balance\"])\n",
        "\n",
        "    # Save to Excel\n",
        "    df.to_excel(output_excel, index=False)\n",
        "    print(f\"Extracted transactions saved to {output_excel}\")\n",
        "\n",
        "\n",
        "# Example Usage\n",
        "pdf_path=\"/content/drive/MyDrive/ScoreMe Hackathon/test3.pdf\"\n",
        "len1=len(pdf_path)\n",
        "excel_name=\"\"\n",
        "while(pdf_path[len1-1]!='/'):\n",
        "  excel_name=pdf_path[len1-1]+excel_name\n",
        "  len1=len1-1\n",
        "\n",
        "extract_tables_from_pdf(pdf_path,\"/content/drive/MyDrive/ScoreMe Hackathon/\"+excel_name+\".xlsx\")\n"
      ]
    },
    {
      "cell_type": "code",
      "source": [
        "import pdfplumber\n",
        "import pandas as pd\n",
        "import re\n",
        "\n",
        "def extract_transactions(pdf_path, output_excel):\n",
        "    transactions = []\n",
        "    pattern = re.compile(r\"(\\d{2}-[A-Za-z]{3}-\\d{4})\\s+([A-Z])\\s+([\\s\\S]?)\\s+([\\d,]+\\.\\d{2})\\s+([\\d,]+\\.\\d{2}[A-Za-z])\")\n",
        "\n",
        "    with pdfplumber.open(pdf_path) as pdf:\n",
        "        for page in pdf.pages:\n",
        "            text = page.extract_text()\n",
        "            if text:\n",
        "                matches = pattern.findall(text)\n",
        "                for match in matches:\n",
        "                    date, txn_type, description, amount, balance = match\n",
        "                    transactions.append([date, txn_type, description.strip(), amount, balance])\n",
        "\n",
        "    df = pd.DataFrame(transactions, columns=[\"Date\", \"Type\", \"Description\", \"Amount\", \"Balance\"])\n",
        "\n",
        "    # Save to Excel\n",
        "    df.to_excel(output_excel, index=False)\n",
        "\n",
        "    print(f\"Extracted transactions saved to {output_excel}\")\n",
        "\n",
        "\n",
        "# Example Usage\n",
        "pdf_path=\"/content/drive/MyDrive/ScoreMe Hackathon/test6.pdf\"\n",
        "len1=len(pdf_path)\n",
        "excel_name=\"\"\n",
        "while(pdf_path[len1-1]!='/'):\n",
        "  excel_name=pdf_path[len1-1]+excel_name\n",
        "  len1=len1-1\n",
        "\n",
        "extract_transactions(pdf_path,\"/content/drive/MyDrive/ScoreMe Hackathon/\"+excel_name+\".xlsx\")\n"
      ],
      "metadata": {
        "colab": {
          "base_uri": "https://localhost:8080/"
        },
        "id": "adPo6HYj_oEJ",
        "outputId": "e0c33244-a28c-4daf-d7fa-12155043544d"
      },
      "execution_count": 5,
      "outputs": [
        {
          "output_type": "stream",
          "name": "stdout",
          "text": [
            "Extracted transactions saved to /content/drive/MyDrive/ScoreMe Hackathon/test6.pdf.xlsx\n"
          ]
        }
      ]
    }
  ]
}